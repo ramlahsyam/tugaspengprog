{
 "cells": [
  {
   "cell_type": "code",
   "execution_count": 2,
   "metadata": {},
   "outputs": [
    {
     "name": "stdout",
     "output_type": "stream",
     "text": [
      "Total harga setelah diskon: Rp 47500.0\n"
     ]
    }
   ],
   "source": [
    "harga = 50000\n",
    "nim_terakhir = 25  \n",
    "if nim_terakhir % 2 == 0:  \n",
    "    diskon = 0.10  \n",
    "else:  \n",
    "    diskon = 0.05  \n",
    "total_harga = harga - (harga * diskon)\n",
    "print(f\"Total harga setelah diskon: Rp {total_harga}\")"
   ]
  },
  {
   "cell_type": "code",
   "execution_count": 1,
   "metadata": {},
   "outputs": [
    {
     "name": "stdout",
     "output_type": "stream",
     "text": [
      "Siswa LULUS\n"
     ]
    }
   ],
   "source": [
    "\n",
    "nim_terakhir = 25  \n",
    "\n",
    "nilai = 85\n",
    "if nim_terakhir > 500:\n",
    "    syarat_kelulusan = 80\n",
    "else:\n",
    "    syarat_kelulusan = 75\n",
    "if nilai >= syarat_kelulusan:\n",
    "    print(\"Siswa LULUS\")\n",
    "else:\n",
    "    print(\"Siswa TIDAK LULUS\")"
   ]
  },
  {
   "cell_type": "code",
   "execution_count": 2,
   "metadata": {},
   "outputs": [
    {
     "name": "stdout",
     "output_type": "stream",
     "text": [
      "Pelanggan mendapatkan GRATIS ONGKIR\n"
     ]
    }
   ],
   "source": [
    "nim_terakhir = 25  \n",
    "total_belanja = 1000000\n",
    "batas_ongkir = 200000 + nim_terakhir  \n",
    "if total_belanja > batas_ongkir:\n",
    "    print(\"Pelanggan mendapatkan GRATIS ONGKIR\")\n",
    "else:\n",
    "    print(\"Pelanggan TIDAK mendapatkan GRATIS ONGKIR\")"
   ]
  },
  {
   "cell_type": "code",
   "execution_count": 6,
   "metadata": {},
   "outputs": [
    {
     "name": "stdout",
     "output_type": "stream",
     "text": [
      "Total gaji karyawan: Rp 550025.0\n"
     ]
    }
   ],
   "source": [
    "nim_terakhir = 25 \n",
    "jam_kerja = 45\n",
    "gaji_pokok = 500000\n",
    "if jam_kerja > 40:\n",
    "    bonus = (0.10 * gaji_pokok) + nim_terakhir \n",
    "else:\n",
    "    bonus = 0  \n",
    "total_gaji = gaji_pokok + bonus\n",
    "print(f\"Total gaji karyawan: Rp {total_gaji}\")\n"
   ]
  },
  {
   "cell_type": "code",
   "execution_count": 8,
   "metadata": {},
   "outputs": [
    {
     "name": "stdout",
     "output_type": "stream",
     "text": [
      "Total biaya yang harus dibayar: Rp 40000.00\n"
     ]
    }
   ],
   "source": [
    "nim_terakhir = 25  \n",
    "total_pesanan = 40000\n",
    "batas_pajak = 50000 - nim_terakhir  \n",
    "if total_pesanan > batas_pajak:\n",
    "    pajak = 0.05 * total_pesanan\n",
    "    total_biaya = total_pesanan + pajak\n",
    "else:\n",
    "    total_biaya = total_pesanan\n",
    "print(f\"Total biaya yang harus dibayar: Rp {total_biaya:.2f}\")\n"
   ]
  },
  {
   "cell_type": "code",
   "execution_count": 10,
   "metadata": {},
   "outputs": [
    {
     "name": "stdout",
     "output_type": "stream",
     "text": [
      "Pelari TIDAK berhasil memenuhi target latihan.\n"
     ]
    }
   ],
   "source": [
    "nim_terakhir = 25  \n",
    "jarak_lari = 25\n",
    "if jarak_lari > nim_terakhir:\n",
    "    print(\"Pelari berhasil memenuhi target latihan!\")\n",
    "else:\n",
    "    print(\"Pelari TIDAK berhasil memenuhi target latihan.\")\n"
   ]
  },
  {
   "cell_type": "code",
   "execution_count": 13,
   "metadata": {},
   "outputs": [
    {
     "name": "stdout",
     "output_type": "stream",
     "text": [
      "Anak mendapatkan diskon 50%.\n",
      "Harga tiket yang harus dibayar: Rp 25000.00\n"
     ]
    }
   ],
   "source": [
    "nim_terakhir = 25  \n",
    "harga_tiket = 50000  \n",
    "if nim_terakhir % 2 == 0:\n",
    "    harga_tiket = 0\n",
    "    print(\"Anak mendapatkan tiket GRATIS!\")\n",
    "else:\n",
    "    harga_tiket = harga_tiket * 0.5\n",
    "    print(\"Anak mendapatkan diskon 50%.\")\n",
    "print(f\"Harga tiket yang harus dibayar: Rp {harga_tiket:.2f}\")\n"
   ]
  },
  {
   "cell_type": "code",
   "execution_count": 15,
   "metadata": {},
   "outputs": [
    {
     "name": "stdout",
     "output_type": "stream",
     "text": [
      "Anda mendapatkan diskon 10%.\n",
      "Total harga yang harus dibayar setelah diskon: Rp 810000.00\n"
     ]
    }
   ],
   "source": [
    "nim_terakhir = 25  \n",
    "harga_per_buku = 60000 \n",
    "jumlah_buku = 15\n",
    "total_harga = jumlah_buku * harga_per_buku\n",
    "if jumlah_buku > 5 and nim_terakhir > 300:\n",
    "    diskon = 0.20 * total_harga\n",
    "    print(\"Anda mendapatkan diskon 20%.\")\n",
    "else:\n",
    "    diskon = 0.10 * total_harga\n",
    "    print(\"Anda mendapatkan diskon 10%.\")\n",
    "total_setelah_diskon = total_harga - diskon\n",
    "print(f\"Total harga yang harus dibayar setelah diskon: Rp {total_setelah_diskon:.2f}\")\n"
   ]
  },
  {
   "cell_type": "code",
   "execution_count": 17,
   "metadata": {},
   "outputs": [
    {
     "name": "stdout",
     "output_type": "stream",
     "text": [
      "Anda mendapatkan diskon 10%.\n",
      "Total harga yang harus dibayar setelah diskon: Rp 270000.00\n"
     ]
    }
   ],
   "source": [
    "nim_terakhir = 25 \n",
    "harga_per_buku = 60000 \n",
    "jumlah_buku = 5\n",
    "total_harga = jumlah_buku * harga_per_buku\n",
    "if jumlah_buku > 5 and nim_terakhir > 300:\n",
    "    diskon = 0.20 * total_harga\n",
    "    print(\"Anda mendapatkan diskon 20%.\")\n",
    "else:\n",
    "    diskon = 0.10 * total_harga\n",
    "    print(\"Anda mendapatkan diskon 10%.\")\n",
    "total_setelah_diskon = total_harga - diskon\n",
    "print(f\"Total harga yang harus dibayar setelah diskon: Rp {total_setelah_diskon:.2f}\")\n"
   ]
  },
  {
   "cell_type": "code",
   "execution_count": 19,
   "metadata": {},
   "outputs": [
    {
     "name": "stdout",
     "output_type": "stream",
     "text": [
      "Bukan Kabisat\n"
     ]
    }
   ],
   "source": [
    "nim_terakhir = 25  \n",
    "tahun = 2025\n",
    "if nim_terakhir % 2 == 0:\n",
    "    print(\"Kabisat\")\n",
    "else:\n",
    "    print(\"Bukan Kabisat\")\n"
   ]
  },
  {
   "cell_type": "code",
   "execution_count": 20,
   "metadata": {},
   "outputs": [
    {
     "name": "stdout",
     "output_type": "stream",
     "text": [
      "Daftar Belanja ke-1:\n",
      "1. Apel - Rp 10.000\n",
      "2. Pisang - Rp 15.000\n",
      "3. Jeruk - Rp 10.000\n",
      "4. Mangga - Rp 25.000\n",
      "5. Anggur - Rp 30.000\n",
      "\n",
      "Daftar Belanja ke-2:\n",
      "1. Apel - Rp 10.000\n",
      "2. Pisang - Rp 15.000\n",
      "3. Jeruk - Rp 10.000\n",
      "4. Mangga - Rp 25.000\n",
      "5. Anggur - Rp 30.000\n",
      "\n",
      "Daftar Belanja ke-3:\n",
      "1. Apel - Rp 10.000\n",
      "2. Pisang - Rp 15.000\n",
      "3. Jeruk - Rp 10.000\n",
      "4. Mangga - Rp 25.000\n",
      "5. Anggur - Rp 30.000\n",
      "\n",
      "Daftar Belanja ke-4:\n",
      "1. Apel - Rp 10.000\n",
      "2. Pisang - Rp 15.000\n",
      "3. Jeruk - Rp 10.000\n",
      "4. Mangga - Rp 25.000\n",
      "5. Anggur - Rp 30.000\n",
      "\n",
      "Daftar Belanja ke-5:\n",
      "1. Apel - Rp 10.000\n",
      "2. Pisang - Rp 15.000\n",
      "3. Jeruk - Rp 10.000\n",
      "4. Mangga - Rp 25.000\n",
      "5. Anggur - Rp 30.000\n",
      "\n"
     ]
    }
   ],
   "source": [
    "nim_terakhir = 25  \n",
    "daftar_belanja = [\n",
    "    \"1. Apel - Rp 10.000\",\n",
    "    \"2. Pisang - Rp 15.000\",\n",
    "    \"3. Jeruk - Rp 10.000\",\n",
    "    \"4. Mangga - Rp 25.000\",\n",
    "    \"5. Anggur - Rp 30.000\"\n",
    "]\n",
    "jumlah_cetak = nim_terakhir % 10 \n",
    "for i in range(jumlah_cetak):\n",
    "    print(f\"Daftar Belanja ke-{i + 1}:\")\n",
    "    for item in daftar_belanja:\n",
    "        print(item)\n",
    "    print()  \n"
   ]
  },
  {
   "cell_type": "code",
   "execution_count": 21,
   "metadata": {},
   "outputs": [
    {
     "name": "stdout",
     "output_type": "stream",
     "text": [
      "5\n",
      "10\n",
      "15\n",
      "20\n",
      "25\n",
      "30\n",
      "35\n",
      "40\n",
      "45\n",
      "50\n",
      "55\n",
      "60\n",
      "65\n",
      "70\n",
      "75\n",
      "80\n",
      "85\n",
      "90\n",
      "95\n",
      "100\n"
     ]
    }
   ],
   "source": [
    "nim_terakhir = 25  \n",
    "kelipatan = nim_terakhir % 5\n",
    "if kelipatan == 0:\n",
    "    kelipatan = 5 \n",
    "for angka in range(1, 101):\n",
    "    if angka % kelipatan == 0:\n",
    "        print(angka)\n"
   ]
  },
  {
   "cell_type": "code",
   "execution_count": 7,
   "metadata": {},
   "outputs": [
    {
     "name": "stdout",
     "output_type": "stream",
     "text": [
      "Tabel Perkalian untuk 7\n",
      "7 x 1 = 7\n",
      "7 x 2 = 14\n",
      "7 x 3 = 21\n",
      "7 x 4 = 28\n",
      "7 x 5 = 35\n",
      "7 x 6 = 42\n",
      "7 x 7 = 49\n",
      "7 x 8 = 56\n",
      "7 x 9 = 63\n",
      "7 x 10 = 70\n"
     ]
    }
   ],
   "source": [
    "nim_terakhir = 25\n",
    "angka = nim_terakhir % 9\n",
    "print(f\"Tabel Perkalian untuk {angka}\")\n",
    "for i in range(1, 11):\n",
    "    print(f\"{angka} x {i} = {angka * i}\")\n"
   ]
  },
  {
   "cell_type": "code",
   "execution_count": 8,
   "metadata": {},
   "outputs": [
    {
     "name": "stdout",
     "output_type": "stream",
     "text": [
      "*\n",
      "**\n",
      "***\n",
      "****\n"
     ]
    }
   ],
   "source": [
    "\n",
    "nim_terakhir = 25\n",
    "tinggi = nim_terakhir % 7\n",
    "for i in range(1, tinggi + 1):\n",
    "    print('*' * i)\n"
   ]
  },
  {
   "cell_type": "code",
   "execution_count": 9,
   "metadata": {},
   "outputs": [
    {
     "name": "stdout",
     "output_type": "stream",
     "text": [
      "Bilangan prima dari 1 sampai 25:\n",
      "2\n",
      "3\n",
      "5\n",
      "7\n",
      "11\n",
      "13\n",
      "17\n",
      "19\n",
      "23\n"
     ]
    }
   ],
   "source": [
    "nim_terakhir = 25\n",
    "batas_atas = nim_terakhir\n",
    "def is_prime(n):\n",
    "    if n <= 1:\n",
    "        return False\n",
    "    for i in range(2, int(n**0.5) + 1):\n",
    "        if n % i == 0:\n",
    "            return False\n",
    "    return True\n",
    "print(f\"Bilangan prima dari 1 sampai {batas_atas}:\")\n",
    "for num in range(1, batas_atas + 1):\n",
    "    if is_prime(num):\n",
    "        print(num)\n"
   ]
  },
  {
   "cell_type": "code",
   "execution_count": 10,
   "metadata": {},
   "outputs": [
    {
     "name": "stdout",
     "output_type": "stream",
     "text": [
      "Deret Fibonacci sebanyak 5 bilangan:\n",
      "0 1 1 2 3 "
     ]
    }
   ],
   "source": [
    "nim_terakhir = 25 \n",
    "jumlah_bilangan = nim_terakhir % 10  \n",
    "def fibonacci(n):\n",
    "    a, b = 0, 1\n",
    "    for _ in range(n):\n",
    "        print(a, end=\" \")\n",
    "        a, b = b, a + b\n",
    "print(f\"Deret Fibonacci sebanyak {jumlah_bilangan} bilangan:\")\n",
    "fibonacci(jumlah_bilangan)\n"
   ]
  },
  {
   "cell_type": "code",
   "execution_count": 11,
   "metadata": {},
   "outputs": [
    {
     "name": "stdout",
     "output_type": "stream",
     "text": [
      "Bilangan kelipatan 1 dari 1 sampai 100:\n",
      "1 2 3 4 5 6 7 8 9 10 11 12 13 14 15 16 17 18 19 20 21 22 23 24 25 26 27 28 29 30 31 32 33 34 35 36 37 38 39 40 41 42 43 44 45 46 47 48 49 50 51 52 53 54 55 56 57 58 59 60 61 62 63 64 65 66 67 68 69 70 71 72 73 74 75 76 77 78 79 80 81 82 83 84 85 86 87 88 89 90 91 92 93 94 95 96 97 98 99 100 "
     ]
    }
   ],
   "source": [
    "nim_terakhir = 25\n",
    "kelipatan = nim_terakhir % 6\n",
    "print(f\"Bilangan kelipatan {kelipatan} dari 1 sampai 100:\")\n",
    "for i in range(kelipatan, 101, kelipatan):\n",
    "    print(i, end=\" \")\n"
   ]
  },
  {
   "cell_type": "code",
   "execution_count": 13,
   "metadata": {},
   "outputs": [
    {
     "name": "stdout",
     "output_type": "stream",
     "text": [
      "Bilangan ganjil dari 1 sampai 25:\n",
      "1 3 5 7 9 11 13 15 17 19 21 23 25 "
     ]
    }
   ],
   "source": [
    "nim_terakhir = 25  \n",
    "batas_atas = nim_terakhir \n",
    "print(f\"Bilangan ganjil dari 1 sampai {batas_atas}:\")\n",
    "for i in range(1, batas_atas + 1, 2): \n",
    "    print(i, end=\" \")\n"
   ]
  },
  {
   "cell_type": "code",
   "execution_count": 2,
   "metadata": {},
   "outputs": [
    {
     "name": "stdout",
     "output_type": "stream",
     "text": [
      "Faktorial dari 1 adalah 1\n"
     ]
    }
   ],
   "source": [
    "nim_terakhir = 25 \n",
    "angka = nim_terakhir % 8 \n",
    "\n",
    "\n",
    "def faktorial(n):\n",
    "    if n == 0 or n == 1:\n",
    "        return 1\n",
    "    result = 1\n",
    "    for i in range(2, n + 1):\n",
    "        result *= i\n",
    "    return result\n",
    "print(f\"Faktorial dari {angka} adalah {faktorial(angka)}\")\n"
   ]
  },
  {
   "cell_type": "code",
   "execution_count": 4,
   "metadata": {},
   "outputs": [],
   "source": [
    "nim_terakhir = 25  \n",
    "jumlah_pengulangan = nim_terakhir % 5  \n",
    "for _ in range(jumlah_pengulangan):\n",
    "    print(\"Terima Kasih\")\n"
   ]
  },
  {
   "cell_type": "code",
   "execution_count": 6,
   "metadata": {},
   "outputs": [
    {
     "name": "stdout",
     "output_type": "stream",
     "text": [
      "kata kata hari ini : \"Kukira Ramadhan harus banyak ngaji, eh malah disibukin ngoding\"\n"
     ]
    }
   ],
   "source": [
    "kata = \"Kukira Ramadhan harus banyak ngaji, eh malah disibukin ngoding\"\n",
    "print(f'kata kata hari ini : \"{kata}\"')"
   ]
  }
 ],
 "metadata": {
  "kernelspec": {
   "display_name": "base",
   "language": "python",
   "name": "python3"
  },
  "language_info": {
   "codemirror_mode": {
    "name": "ipython",
    "version": 3
   },
   "file_extension": ".py",
   "mimetype": "text/x-python",
   "name": "python",
   "nbconvert_exporter": "python",
   "pygments_lexer": "ipython3",
   "version": "3.12.4"
  }
 },
 "nbformat": 4,
 "nbformat_minor": 2
}
